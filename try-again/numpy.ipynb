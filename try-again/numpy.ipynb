{
 "cells": [
  {
   "cell_type": "code",
   "execution_count": 2,
   "metadata": {},
   "outputs": [],
   "source": [
    "import numpy as np\n",
    "import pandas as pd\n",
    "import matplotlib.pyplot as plt\n",
    "import seaborn as sns\n",
    "%matplotlib.inline"
   ]
  },
  {
   "cell_type": "code",
   "execution_count": 3,
   "metadata": {},
   "outputs": [
    {
     "data": {
      "text/html": [
       "<div>\n",
       "<style scoped>\n",
       "    .dataframe tbody tr th:only-of-type {\n",
       "        vertical-align: middle;\n",
       "    }\n",
       "\n",
       "    .dataframe tbody tr th {\n",
       "        vertical-align: top;\n",
       "    }\n",
       "\n",
       "    .dataframe thead th {\n",
       "        text-align: right;\n",
       "    }\n",
       "</style>\n",
       "<table border=\"1\" class=\"dataframe\">\n",
       "  <thead>\n",
       "    <tr style=\"text-align: right;\">\n",
       "      <th></th>\n",
       "      <th>Age</th>\n",
       "    </tr>\n",
       "  </thead>\n",
       "  <tbody>\n",
       "    <tr>\n",
       "      <th>0</th>\n",
       "      <td>69</td>\n",
       "    </tr>\n",
       "    <tr>\n",
       "      <th>1</th>\n",
       "      <td>78</td>\n",
       "    </tr>\n",
       "    <tr>\n",
       "      <th>2</th>\n",
       "      <td>48</td>\n",
       "    </tr>\n",
       "    <tr>\n",
       "      <th>3</th>\n",
       "      <td>1</td>\n",
       "    </tr>\n",
       "    <tr>\n",
       "      <th>4</th>\n",
       "      <td>48</td>\n",
       "    </tr>\n",
       "    <tr>\n",
       "      <th>5</th>\n",
       "      <td>85</td>\n",
       "    </tr>\n",
       "    <tr>\n",
       "      <th>6</th>\n",
       "      <td>56</td>\n",
       "    </tr>\n",
       "    <tr>\n",
       "      <th>7</th>\n",
       "      <td>95</td>\n",
       "    </tr>\n",
       "    <tr>\n",
       "      <th>8</th>\n",
       "      <td>29</td>\n",
       "    </tr>\n",
       "    <tr>\n",
       "      <th>9</th>\n",
       "      <td>17</td>\n",
       "    </tr>\n",
       "  </tbody>\n",
       "</table>\n",
       "</div>"
      ],
      "text/plain": [
       "   Age\n",
       "0   69\n",
       "1   78\n",
       "2   48\n",
       "3    1\n",
       "4   48\n",
       "5   85\n",
       "6   56\n",
       "7   95\n",
       "8   29\n",
       "9   17"
      ]
     },
     "execution_count": 3,
     "metadata": {},
     "output_type": "execute_result"
    }
   ],
   "source": [
    "df = pd.DataFrame({\"Age\":np.random.randint(1,100,10)})\n",
    "df\n",
    "print(\"ini aku\")"
   ]
  },
  {
   "cell_type": "code",
   "execution_count": 2,
   "metadata": {},
   "outputs": [
    {
     "name": "stdout",
     "output_type": "stream",
     "text": [
      "[[ 1  2  3  4  5]\n",
      " [ 2  3  4  5  6]\n",
      " [20 30 40 50 60]]\n"
     ]
    }
   ],
   "source": [
    "import pandas as pd\n",
    "import numpy as np\n",
    "c = np.array([[1,2,3,4,5], [2,3,4,5,6], [20,30,40,50,60]])\n",
    "print(c)"
   ]
  },
  {
   "cell_type": "code",
   "execution_count": 30,
   "metadata": {},
   "outputs": [
    {
     "data": {
      "text/plain": [
       "array([ 3,  4, 40])"
      ]
     },
     "execution_count": 30,
     "metadata": {},
     "output_type": "execute_result"
    }
   ],
   "source": [
    "c[:,2]"
   ]
  },
  {
   "cell_type": "code",
   "execution_count": 32,
   "metadata": {},
   "outputs": [
    {
     "data": {
      "text/plain": [
       "array([ 5, 50])"
      ]
     },
     "execution_count": 32,
     "metadata": {},
     "output_type": "execute_result"
    }
   ],
   "source": [
    "c[1:3,3]"
   ]
  },
  {
   "cell_type": "code",
   "execution_count": 33,
   "metadata": {},
   "outputs": [
    {
     "name": "stdout",
     "output_type": "stream",
     "text": [
      "[[[  1   2   3   4   5]\n",
      "  [  2   3   4   5   6]\n",
      "  [ 20  30  40  50  60]]\n",
      "\n",
      " [[  1   2   3   4   5]\n",
      "  [  2   3   4   5   6]\n",
      "  [200 300 400 500 600]]]\n"
     ]
    }
   ],
   "source": [
    "a = np.array([[[1,2,3,4,5], [2,3,4,5,6], [20,30,40,50,60]], [[1,2,3,4,5], [2,3,4,5,6], [200,300,400,500,600]]])\n",
    "print(a)"
   ]
  },
  {
   "cell_type": "code",
   "execution_count": 35,
   "metadata": {},
   "outputs": [
    {
     "data": {
      "text/plain": [
       "3"
      ]
     },
     "execution_count": 35,
     "metadata": {},
     "output_type": "execute_result"
    }
   ],
   "source": [
    "a.ndim"
   ]
  },
  {
   "cell_type": "code",
   "execution_count": 36,
   "metadata": {},
   "outputs": [
    {
     "data": {
      "text/plain": [
       "array([[  2,   3,  30],\n",
       "       [  2,   3, 300]])"
      ]
     },
     "execution_count": 36,
     "metadata": {},
     "output_type": "execute_result"
    }
   ],
   "source": [
    "a[0:,:,1]"
   ]
  },
  {
   "cell_type": "code",
   "execution_count": 37,
   "metadata": {},
   "outputs": [
    {
     "data": {
      "text/plain": [
       "array([3, 4, 5])"
      ]
     },
     "execution_count": 37,
     "metadata": {},
     "output_type": "execute_result"
    }
   ],
   "source": [
    "a[1,1,1:4]"
   ]
  },
  {
   "cell_type": "code",
   "execution_count": 38,
   "metadata": {},
   "outputs": [
    {
     "data": {
      "text/plain": [
       "array([[ 3,  4],\n",
       "       [30, 40]])"
      ]
     },
     "execution_count": 38,
     "metadata": {},
     "output_type": "execute_result"
    }
   ],
   "source": [
    "a[0,1:,1:3]"
   ]
  },
  {
   "cell_type": "code",
   "execution_count": 39,
   "metadata": {},
   "outputs": [
    {
     "data": {
      "text/plain": [
       "array([0, 1, 2, 3, 4, 5, 6, 7, 8, 9])"
      ]
     },
     "execution_count": 39,
     "metadata": {},
     "output_type": "execute_result"
    }
   ],
   "source": [
    "np.arange(10)"
   ]
  },
  {
   "cell_type": "code",
   "execution_count": 40,
   "metadata": {},
   "outputs": [
    {
     "data": {
      "text/plain": [
       "array([20, 18, 16, 14, 12, 10,  8,  6,  4,  2])"
      ]
     },
     "execution_count": 40,
     "metadata": {},
     "output_type": "execute_result"
    }
   ],
   "source": [
    "np.arange(20,0,-2)"
   ]
  },
  {
   "cell_type": "code",
   "execution_count": 41,
   "metadata": {},
   "outputs": [
    {
     "data": {
      "text/plain": [
       "array([0.+0.j, 1.+0.j, 2.+0.j, 3.+0.j, 4.+0.j, 5.+0.j, 6.+0.j, 7.+0.j,\n",
       "       8.+0.j, 9.+0.j])"
      ]
     },
     "execution_count": 41,
     "metadata": {},
     "output_type": "execute_result"
    }
   ],
   "source": [
    "np.arange(0,10, dtype=complex)"
   ]
  },
  {
   "cell_type": "code",
   "execution_count": 42,
   "metadata": {},
   "outputs": [
    {
     "data": {
      "text/plain": [
       "array([0., 0., 0., 0., 0., 0., 0., 0., 0., 0.])"
      ]
     },
     "execution_count": 42,
     "metadata": {},
     "output_type": "execute_result"
    }
   ],
   "source": [
    "np.zeros(10)"
   ]
  },
  {
   "cell_type": "code",
   "execution_count": 46,
   "metadata": {},
   "outputs": [
    {
     "data": {
      "text/plain": [
       "array([[0, 0, 0, 0, 0],\n",
       "       [0, 0, 0, 0, 0]])"
      ]
     },
     "execution_count": 46,
     "metadata": {},
     "output_type": "execute_result"
    }
   ],
   "source": [
    "np.zeros((2,5), dtype= int)"
   ]
  },
  {
   "cell_type": "code",
   "execution_count": 49,
   "metadata": {},
   "outputs": [
    {
     "data": {
      "text/plain": [
       "array([ 2,  4,  6,  8, 10])"
      ]
     },
     "execution_count": 49,
     "metadata": {},
     "output_type": "execute_result"
    }
   ],
   "source": [
    "np.linspace(2, 10, 5, dtype= int)"
   ]
  },
  {
   "cell_type": "code",
   "execution_count": 50,
   "metadata": {},
   "outputs": [
    {
     "data": {
      "text/plain": [
       "(array([ 0. ,  2.5,  5. ,  7.5, 10. ]), 2.5)"
      ]
     },
     "execution_count": 50,
     "metadata": {},
     "output_type": "execute_result"
    }
   ],
   "source": [
    "np.linspace(0,10,5, retstep=True)"
   ]
  },
  {
   "cell_type": "code",
   "execution_count": 58,
   "metadata": {},
   "outputs": [
    {
     "data": {
      "text/plain": [
       "(array([ 0.        ,  1.66666667,  3.33333333,  5.        ,  6.66666667,\n",
       "         8.33333333, 10.        ]),\n",
       " 1.6666666666666667)"
      ]
     },
     "execution_count": 58,
     "metadata": {},
     "output_type": "execute_result"
    }
   ],
   "source": [
    "a = np.linspace(0,10,7, retstep=True)\n",
    "a"
   ]
  },
  {
   "cell_type": "code",
   "execution_count": 60,
   "metadata": {},
   "outputs": [
    {
     "data": {
      "text/plain": [
       "array([[1, 1, 1],\n",
       "       [1, 1, 1]])"
      ]
     },
     "execution_count": 60,
     "metadata": {},
     "output_type": "execute_result"
    }
   ],
   "source": [
    "np.ones((2,3), dtype=int)"
   ]
  },
  {
   "cell_type": "code",
   "execution_count": 65,
   "metadata": {},
   "outputs": [
    {
     "data": {
      "text/plain": [
       "array([[1., 0., 0.],\n",
       "       [0., 1., 0.],\n",
       "       [0., 0., 1.]])"
      ]
     },
     "execution_count": 65,
     "metadata": {},
     "output_type": "execute_result"
    }
   ],
   "source": [
    "np.eye(3,3)"
   ]
  },
  {
   "cell_type": "code",
   "execution_count": 67,
   "metadata": {},
   "outputs": [
    {
     "data": {
      "text/plain": [
       "array([[1., 0., 0., 0., 0.],\n",
       "       [0., 1., 0., 0., 0.],\n",
       "       [0., 0., 1., 0., 0.],\n",
       "       [0., 0., 0., 1., 0.],\n",
       "       [0., 0., 0., 0., 1.]])"
      ]
     },
     "execution_count": 67,
     "metadata": {},
     "output_type": "execute_result"
    }
   ],
   "source": [
    "np.eye(5,5)"
   ]
  },
  {
   "cell_type": "code",
   "execution_count": 68,
   "metadata": {},
   "outputs": [
    {
     "data": {
      "text/plain": [
       "array([[0., 0., 0., 1., 0., 0., 0., 0., 0., 0.],\n",
       "       [0., 0., 0., 0., 1., 0., 0., 0., 0., 0.],\n",
       "       [0., 0., 0., 0., 0., 1., 0., 0., 0., 0.],\n",
       "       [0., 0., 0., 0., 0., 0., 1., 0., 0., 0.],\n",
       "       [0., 0., 0., 0., 0., 0., 0., 1., 0., 0.],\n",
       "       [0., 0., 0., 0., 0., 0., 0., 0., 1., 0.],\n",
       "       [0., 0., 0., 0., 0., 0., 0., 0., 0., 1.],\n",
       "       [0., 0., 0., 0., 0., 0., 0., 0., 0., 0.],\n",
       "       [0., 0., 0., 0., 0., 0., 0., 0., 0., 0.],\n",
       "       [0., 0., 0., 0., 0., 0., 0., 0., 0., 0.]])"
      ]
     },
     "execution_count": 68,
     "metadata": {},
     "output_type": "execute_result"
    }
   ],
   "source": [
    "np.eye(10, k=3)"
   ]
  },
  {
   "cell_type": "code",
   "execution_count": 70,
   "metadata": {},
   "outputs": [
    {
     "data": {
      "text/plain": [
       "array([[0., 0., 0., 0., 0., 0., 0., 0., 0., 0.],\n",
       "       [0., 0., 0., 0., 0., 0., 0., 0., 0., 0.],\n",
       "       [0., 0., 0., 0., 0., 0., 0., 0., 0., 0.],\n",
       "       [1., 0., 0., 0., 0., 0., 0., 0., 0., 0.],\n",
       "       [0., 1., 0., 0., 0., 0., 0., 0., 0., 0.],\n",
       "       [0., 0., 1., 0., 0., 0., 0., 0., 0., 0.],\n",
       "       [0., 0., 0., 1., 0., 0., 0., 0., 0., 0.],\n",
       "       [0., 0., 0., 0., 1., 0., 0., 0., 0., 0.],\n",
       "       [0., 0., 0., 0., 0., 1., 0., 0., 0., 0.],\n",
       "       [0., 0., 0., 0., 0., 0., 1., 0., 0., 0.]])"
      ]
     },
     "execution_count": 70,
     "metadata": {},
     "output_type": "execute_result"
    }
   ],
   "source": [
    "np.eye(10, k=-3)"
   ]
  },
  {
   "cell_type": "code",
   "execution_count": 75,
   "metadata": {},
   "outputs": [
    {
     "data": {
      "text/plain": [
       "array([[1, 0, 0, 0, 0],\n",
       "       [0, 2, 0, 0, 0],\n",
       "       [0, 0, 3, 0, 0],\n",
       "       [0, 0, 0, 4, 0],\n",
       "       [0, 0, 0, 0, 5]])"
      ]
     },
     "execution_count": 75,
     "metadata": {},
     "output_type": "execute_result"
    }
   ],
   "source": [
    "np.diag(range(1,6))"
   ]
  },
  {
   "cell_type": "code",
   "execution_count": 76,
   "metadata": {},
   "outputs": [
    {
     "data": {
      "text/plain": [
       "array([[144, 144, 144, 144, 144, 144, 144, 144, 144, 144],\n",
       "       [144, 144, 144, 144, 144, 144, 144, 144, 144, 144],\n",
       "       [144, 144, 144, 144, 144, 144, 144, 144, 144, 144],\n",
       "       [144, 144, 144, 144, 144, 144, 144, 144, 144, 144],\n",
       "       [144, 144, 144, 144, 144, 144, 144, 144, 144, 144],\n",
       "       [144, 144, 144, 144, 144, 144, 144, 144, 144, 144],\n",
       "       [144, 144, 144, 144, 144, 144, 144, 144, 144, 144],\n",
       "       [144, 144, 144, 144, 144, 144, 144, 144, 144, 144],\n",
       "       [144, 144, 144, 144, 144, 144, 144, 144, 144, 144],\n",
       "       [144, 144, 144, 144, 144, 144, 144, 144, 144, 144]])"
      ]
     },
     "execution_count": 76,
     "metadata": {},
     "output_type": "execute_result"
    }
   ],
   "source": [
    "np.full((10,10),144)"
   ]
  },
  {
   "cell_type": "code",
   "execution_count": 79,
   "metadata": {},
   "outputs": [
    {
     "data": {
      "text/plain": [
       "array([[[ 1,  2,  3],\n",
       "        [ 3,  4,  5]],\n",
       "\n",
       "       [[ 4,  8,  3],\n",
       "        [ 1,  4, 55]]])"
      ]
     },
     "execution_count": 79,
     "metadata": {},
     "output_type": "execute_result"
    }
   ],
   "source": [
    "a = np.array([[1,2,3],[3,4,5]])\n",
    "b = np.array([[4,8,3],[1,4,55]])\n",
    "c = np.stack((a,b))\n",
    "c"
   ]
  },
  {
   "cell_type": "code",
   "execution_count": 80,
   "metadata": {},
   "outputs": [
    {
     "data": {
      "text/plain": [
       "3"
      ]
     },
     "execution_count": 80,
     "metadata": {},
     "output_type": "execute_result"
    }
   ],
   "source": [
    "c.ndim"
   ]
  },
  {
   "cell_type": "code",
   "execution_count": 81,
   "metadata": {},
   "outputs": [
    {
     "data": {
      "text/plain": [
       "array([[ 1,  2,  3],\n",
       "       [ 3,  4,  5],\n",
       "       [ 4,  8,  3],\n",
       "       [ 1,  4, 55]])"
      ]
     },
     "execution_count": 81,
     "metadata": {},
     "output_type": "execute_result"
    }
   ],
   "source": [
    "d = np.vstack((a,b))\n",
    "d"
   ]
  },
  {
   "cell_type": "code",
   "execution_count": 82,
   "metadata": {},
   "outputs": [
    {
     "data": {
      "text/plain": [
       "2"
      ]
     },
     "execution_count": 82,
     "metadata": {},
     "output_type": "execute_result"
    }
   ],
   "source": [
    "d.ndim"
   ]
  },
  {
   "cell_type": "code",
   "execution_count": 83,
   "metadata": {},
   "outputs": [
    {
     "data": {
      "text/plain": [
       "array([[ 1,  2,  3,  4,  8,  3],\n",
       "       [ 3,  4,  5,  1,  4, 55]])"
      ]
     },
     "execution_count": 83,
     "metadata": {},
     "output_type": "execute_result"
    }
   ],
   "source": [
    "e = np.hstack((a,b))\n",
    "e"
   ]
  },
  {
   "cell_type": "code",
   "execution_count": 85,
   "metadata": {},
   "outputs": [
    {
     "data": {
      "text/plain": [
       "array([[ 1,  2,  3,  4,  8,  3],\n",
       "       [ 3,  4,  5,  1,  4, 55]])"
      ]
     },
     "execution_count": 85,
     "metadata": {},
     "output_type": "execute_result"
    }
   ],
   "source": [
    "np.concatenate((a,b), axis=1)"
   ]
  },
  {
   "cell_type": "code",
   "execution_count": 89,
   "metadata": {},
   "outputs": [
    {
     "name": "stdout",
     "output_type": "stream",
     "text": [
      "Help on built-in function randn:\n",
      "\n",
      "randn(...) method of numpy.random.mtrand.RandomState instance\n",
      "    randn(d0, d1, ..., dn)\n",
      "    \n",
      "    Return a sample (or samples) from the \"standard normal\" distribution.\n",
      "    \n",
      "    .. note::\n",
      "        This is a convenience function for users porting code from Matlab,\n",
      "        and wraps `standard_normal`. That function takes a\n",
      "        tuple to specify the size of the output, which is consistent with\n",
      "        other NumPy functions like `numpy.zeros` and `numpy.ones`.\n",
      "    \n",
      "    .. note::\n",
      "        New code should use the ``standard_normal`` method of a ``default_rng()``\n",
      "        instance instead; please see the :ref:`random-quick-start`.\n",
      "    \n",
      "    If positive int_like arguments are provided, `randn` generates an array\n",
      "    of shape ``(d0, d1, ..., dn)``, filled\n",
      "    with random floats sampled from a univariate \"normal\" (Gaussian)\n",
      "    distribution of mean 0 and variance 1. A single float randomly sampled\n",
      "    from the distribution is returned if no argument is provided.\n",
      "    \n",
      "    Parameters\n",
      "    ----------\n",
      "    d0, d1, ..., dn : int, optional\n",
      "        The dimensions of the returned array, must be non-negative.\n",
      "        If no argument is given a single Python float is returned.\n",
      "    \n",
      "    Returns\n",
      "    -------\n",
      "    Z : ndarray or float\n",
      "        A ``(d0, d1, ..., dn)``-shaped array of floating-point samples from\n",
      "        the standard normal distribution, or a single such float if\n",
      "        no parameters were supplied.\n",
      "    \n",
      "    See Also\n",
      "    --------\n",
      "    standard_normal : Similar, but takes a tuple as its argument.\n",
      "    normal : Also accepts mu and sigma arguments.\n",
      "    Generator.standard_normal: which should be used for new code.\n",
      "    \n",
      "    Notes\n",
      "    -----\n",
      "    For random samples from :math:`N(\\mu, \\sigma^2)`, use:\n",
      "    \n",
      "    ``sigma * np.random.randn(...) + mu``\n",
      "    \n",
      "    Examples\n",
      "    --------\n",
      "    >>> np.random.randn()\n",
      "    2.1923875335537315  # random\n",
      "    \n",
      "    Two-by-four array of samples from N(3, 6.25):\n",
      "    \n",
      "    >>> 3 + 2.5 * np.random.randn(2, 4)\n",
      "    array([[-4.49401501,  4.00950034, -1.81814867,  7.29718677],   # random\n",
      "           [ 0.39924804,  4.68456316,  4.99394529,  4.84057254]])  # random\n",
      "\n"
     ]
    }
   ],
   "source": [
    "help(np.random.randn)"
   ]
  },
  {
   "cell_type": "code",
   "execution_count": 90,
   "metadata": {},
   "outputs": [
    {
     "data": {
      "text/plain": [
       "array([[0.86583833, 0.73832048, 0.10377234],\n",
       "       [0.1748991 , 0.74764346, 0.47414941]])"
      ]
     },
     "execution_count": 90,
     "metadata": {},
     "output_type": "execute_result"
    }
   ],
   "source": [
    "np.random.rand(2,3)"
   ]
  },
  {
   "cell_type": "code",
   "execution_count": 92,
   "metadata": {},
   "outputs": [
    {
     "data": {
      "text/plain": [
       "array([[ 0.45847738, -1.28346115,  0.01415639],\n",
       "       [ 0.08472968,  0.94192061,  0.64336335]])"
      ]
     },
     "execution_count": 92,
     "metadata": {},
     "output_type": "execute_result"
    }
   ],
   "source": [
    "np.random.randn(2,3)"
   ]
  },
  {
   "cell_type": "code",
   "execution_count": 98,
   "metadata": {},
   "outputs": [
    {
     "data": {
      "text/plain": [
       "array([[0, 0, 1],\n",
       "       [6, 7, 6]])"
      ]
     },
     "execution_count": 98,
     "metadata": {},
     "output_type": "execute_result"
    }
   ],
   "source": [
    "np.random.randint(0,8, size=(2,3))"
   ]
  },
  {
   "cell_type": "code",
   "execution_count": 100,
   "metadata": {},
   "outputs": [
    {
     "data": {
      "text/plain": [
       "array([[0.70683121, 0.22406128, 0.18413425],\n",
       "       [0.45975051, 0.15997838, 0.44219696]])"
      ]
     },
     "execution_count": 100,
     "metadata": {},
     "output_type": "execute_result"
    }
   ],
   "source": [
    "np.random.ranf((2,3))"
   ]
  },
  {
   "cell_type": "code",
   "execution_count": 102,
   "metadata": {},
   "outputs": [
    {
     "data": {
      "text/plain": [
       "array([[0.7582821 , 0.64813557, 0.72772187],\n",
       "       [0.76651527, 0.50847288, 0.88871707]])"
      ]
     },
     "execution_count": 102,
     "metadata": {},
     "output_type": "execute_result"
    }
   ],
   "source": [
    "a = np.random.rand(2,3)\n",
    "a"
   ]
  },
  {
   "cell_type": "code",
   "execution_count": 104,
   "metadata": {},
   "outputs": [
    {
     "data": {
      "text/plain": [
       "array([[0.7582821 , 0.64813557],\n",
       "       [0.72772187, 0.76651527],\n",
       "       [0.50847288, 0.88871707]])"
      ]
     },
     "execution_count": 104,
     "metadata": {},
     "output_type": "execute_result"
    }
   ],
   "source": [
    "a.reshape((3,2))"
   ]
  },
  {
   "cell_type": "code",
   "execution_count": 106,
   "metadata": {},
   "outputs": [
    {
     "data": {
      "text/plain": [
       "array([[0.7582821 , 0.76651527],\n",
       "       [0.64813557, 0.50847288],\n",
       "       [0.72772187, 0.88871707]])"
      ]
     },
     "execution_count": 106,
     "metadata": {},
     "output_type": "execute_result"
    }
   ],
   "source": [
    "a.T"
   ]
  },
  {
   "cell_type": "code",
   "execution_count": 116,
   "metadata": {},
   "outputs": [
    {
     "data": {
      "text/plain": [
       "array([[0.84235104, 0.76651178, 0.79981828, 0.49612625, 0.65240429,\n",
       "        0.72152562, 0.10596899, 0.68840168],\n",
       "       [0.87089315, 0.85629809, 0.97341005, 0.56322682, 0.39043174,\n",
       "        0.05942891, 0.89661074, 0.23478016],\n",
       "       [0.22971116, 0.14240742, 0.94401282, 0.66809249, 0.44305884,\n",
       "        0.74111358, 0.14764713, 0.59286185],\n",
       "       [0.56160041, 0.96734941, 0.32629204, 0.65891546, 0.76959828,\n",
       "        0.59060363, 0.64110829, 0.92208381],\n",
       "       [0.86352244, 0.67393766, 0.18492328, 0.22236567, 0.44387193,\n",
       "        0.82296705, 0.61573747, 0.51699527],\n",
       "       [0.83052037, 0.53449455, 0.37866622, 0.09293558, 0.90208089,\n",
       "        0.91144209, 0.51250523, 0.13133191],\n",
       "       [0.71602885, 0.10867792, 0.06132222, 0.67584979, 0.42424545,\n",
       "        0.73576967, 0.63703235, 0.36472885],\n",
       "       [0.85956066, 0.39574112, 0.85402437, 0.55384376, 0.31925969,\n",
       "        0.62262705, 0.92612072, 0.05830993]])"
      ]
     },
     "execution_count": 116,
     "metadata": {},
     "output_type": "execute_result"
    }
   ],
   "source": [
    "a = np.random.rand(8,8)\n",
    "a"
   ]
  },
  {
   "cell_type": "code",
   "execution_count": 120,
   "metadata": {},
   "outputs": [
    {
     "data": {
      "text/plain": [
       "array([[[[[[0.84235104, 0.76651178],\n",
       "           [0.79981828, 0.49612625]],\n",
       "\n",
       "          [[0.65240429, 0.72152562],\n",
       "           [0.10596899, 0.68840168]]],\n",
       "\n",
       "\n",
       "         [[[0.87089315, 0.85629809],\n",
       "           [0.97341005, 0.56322682]],\n",
       "\n",
       "          [[0.39043174, 0.05942891],\n",
       "           [0.89661074, 0.23478016]]]],\n",
       "\n",
       "\n",
       "\n",
       "        [[[[0.22971116, 0.14240742],\n",
       "           [0.94401282, 0.66809249]],\n",
       "\n",
       "          [[0.44305884, 0.74111358],\n",
       "           [0.14764713, 0.59286185]]],\n",
       "\n",
       "\n",
       "         [[[0.56160041, 0.96734941],\n",
       "           [0.32629204, 0.65891546]],\n",
       "\n",
       "          [[0.76959828, 0.59060363],\n",
       "           [0.64110829, 0.92208381]]]]],\n",
       "\n",
       "\n",
       "\n",
       "\n",
       "       [[[[[0.86352244, 0.67393766],\n",
       "           [0.18492328, 0.22236567]],\n",
       "\n",
       "          [[0.44387193, 0.82296705],\n",
       "           [0.61573747, 0.51699527]]],\n",
       "\n",
       "\n",
       "         [[[0.83052037, 0.53449455],\n",
       "           [0.37866622, 0.09293558]],\n",
       "\n",
       "          [[0.90208089, 0.91144209],\n",
       "           [0.51250523, 0.13133191]]]],\n",
       "\n",
       "\n",
       "\n",
       "        [[[[0.71602885, 0.10867792],\n",
       "           [0.06132222, 0.67584979]],\n",
       "\n",
       "          [[0.42424545, 0.73576967],\n",
       "           [0.63703235, 0.36472885]]],\n",
       "\n",
       "\n",
       "         [[[0.85956066, 0.39574112],\n",
       "           [0.85402437, 0.55384376]],\n",
       "\n",
       "          [[0.31925969, 0.62262705],\n",
       "           [0.92612072, 0.05830993]]]]]])"
      ]
     },
     "execution_count": 120,
     "metadata": {},
     "output_type": "execute_result"
    }
   ],
   "source": [
    "d = a.reshape(2,2,2,2,2,2)\n",
    "d"
   ]
  },
  {
   "cell_type": "code",
   "execution_count": 121,
   "metadata": {},
   "outputs": [
    {
     "data": {
      "text/plain": [
       "6"
      ]
     },
     "execution_count": 121,
     "metadata": {},
     "output_type": "execute_result"
    }
   ],
   "source": [
    "d.ndim"
   ]
  },
  {
   "cell_type": "code",
   "execution_count": 124,
   "metadata": {},
   "outputs": [
    {
     "data": {
      "text/plain": [
       "array([0, 1, 2, 3, 4, 5, 6, 7, 8, 9])"
      ]
     },
     "execution_count": 124,
     "metadata": {},
     "output_type": "execute_result"
    }
   ],
   "source": [
    "a = np.arange(10)\n",
    "a"
   ]
  },
  {
   "cell_type": "code",
   "execution_count": 129,
   "metadata": {},
   "outputs": [
    {
     "data": {
      "text/plain": [
       "array([[0, 1, 2],\n",
       "       [3, 4, 5],\n",
       "       [6, 7, 8]])"
      ]
     },
     "execution_count": 129,
     "metadata": {},
     "output_type": "execute_result"
    }
   ],
   "source": [
    "np.resize(a, (3,3))"
   ]
  },
  {
   "cell_type": "code",
   "execution_count": 130,
   "metadata": {},
   "outputs": [
    {
     "data": {
      "text/plain": [
       "array([[[5, 8, 6, 2, 4, 9, 8, 7, 4, 4],\n",
       "        [4, 4, 8, 5, 2, 4, 8, 7, 3, 5],\n",
       "        [6, 5, 7, 6, 5, 6, 2, 5, 9, 4],\n",
       "        [2, 3, 2, 6, 8, 5, 4, 5, 7, 4],\n",
       "        [9, 3, 2, 2, 7, 2, 4, 4, 4, 9],\n",
       "        [3, 2, 4, 6, 6, 6, 6, 4, 5, 7],\n",
       "        [9, 2, 2, 7, 8, 2, 5, 9, 5, 9],\n",
       "        [5, 6, 5, 3, 9, 9, 4, 4, 4, 3],\n",
       "        [9, 9, 8, 9, 3, 8, 4, 7, 3, 6],\n",
       "        [3, 4, 7, 7, 5, 4, 7, 9, 9, 7]],\n",
       "\n",
       "       [[7, 6, 9, 6, 5, 7, 4, 2, 2, 8],\n",
       "        [4, 9, 3, 2, 5, 5, 5, 8, 5, 9],\n",
       "        [9, 3, 3, 5, 3, 3, 7, 4, 8, 5],\n",
       "        [7, 5, 5, 8, 8, 5, 9, 2, 4, 4],\n",
       "        [9, 7, 5, 4, 4, 4, 9, 9, 6, 6],\n",
       "        [9, 5, 9, 9, 6, 3, 6, 3, 5, 9],\n",
       "        [5, 9, 5, 7, 3, 5, 2, 7, 3, 4],\n",
       "        [5, 9, 9, 7, 3, 4, 7, 2, 5, 6],\n",
       "        [9, 8, 2, 4, 7, 3, 8, 3, 2, 9],\n",
       "        [5, 4, 3, 9, 9, 8, 8, 2, 9, 2]],\n",
       "\n",
       "       [[3, 9, 8, 3, 2, 7, 9, 3, 5, 9],\n",
       "        [4, 2, 2, 7, 8, 2, 5, 2, 9, 5],\n",
       "        [6, 4, 2, 9, 3, 5, 8, 2, 9, 9],\n",
       "        [6, 7, 8, 7, 3, 2, 9, 2, 2, 5],\n",
       "        [9, 2, 4, 6, 5, 2, 3, 4, 7, 5],\n",
       "        [4, 5, 9, 6, 8, 8, 9, 2, 4, 2],\n",
       "        [3, 6, 9, 3, 2, 8, 2, 3, 6, 8],\n",
       "        [5, 3, 9, 6, 2, 6, 2, 3, 3, 7],\n",
       "        [4, 7, 4, 4, 6, 8, 9, 3, 9, 7],\n",
       "        [3, 8, 2, 7, 3, 2, 7, 8, 6, 7]],\n",
       "\n",
       "       [[6, 9, 2, 3, 6, 7, 3, 2, 5, 8],\n",
       "        [7, 5, 4, 9, 6, 7, 9, 4, 2, 2],\n",
       "        [2, 6, 3, 9, 6, 6, 4, 6, 8, 4],\n",
       "        [2, 3, 4, 2, 7, 3, 3, 7, 2, 7],\n",
       "        [9, 8, 8, 3, 4, 4, 9, 3, 8, 4],\n",
       "        [3, 8, 5, 2, 8, 5, 9, 7, 6, 7],\n",
       "        [2, 9, 2, 5, 5, 5, 8, 2, 5, 3],\n",
       "        [3, 5, 4, 5, 6, 2, 5, 5, 2, 7],\n",
       "        [9, 9, 2, 5, 9, 6, 8, 9, 7, 6],\n",
       "        [3, 6, 6, 3, 7, 8, 5, 7, 4, 5]],\n",
       "\n",
       "       [[6, 5, 9, 3, 5, 7, 2, 8, 2, 2],\n",
       "        [8, 5, 4, 6, 3, 6, 5, 7, 5, 9],\n",
       "        [2, 3, 4, 5, 5, 7, 9, 4, 5, 4],\n",
       "        [8, 4, 9, 6, 9, 5, 2, 6, 6, 4],\n",
       "        [9, 2, 2, 3, 4, 8, 2, 2, 6, 3],\n",
       "        [5, 9, 4, 8, 5, 2, 9, 4, 8, 3],\n",
       "        [4, 2, 8, 3, 7, 2, 8, 8, 5, 2],\n",
       "        [5, 6, 3, 7, 9, 7, 9, 7, 6, 8],\n",
       "        [9, 3, 7, 4, 5, 4, 8, 4, 4, 9],\n",
       "        [3, 5, 2, 6, 3, 4, 9, 6, 6, 7]],\n",
       "\n",
       "       [[3, 3, 7, 9, 7, 7, 4, 4, 5, 2],\n",
       "        [7, 3, 2, 8, 8, 2, 5, 4, 6, 4],\n",
       "        [5, 4, 6, 6, 7, 2, 3, 5, 4, 4],\n",
       "        [8, 7, 3, 3, 7, 2, 2, 8, 8, 6],\n",
       "        [6, 6, 7, 3, 6, 5, 7, 7, 7, 8],\n",
       "        [7, 5, 8, 2, 6, 6, 5, 5, 9, 7],\n",
       "        [8, 8, 8, 8, 6, 5, 9, 4, 5, 8],\n",
       "        [4, 2, 3, 8, 9, 6, 3, 5, 2, 3],\n",
       "        [6, 7, 5, 7, 7, 9, 6, 2, 9, 6],\n",
       "        [7, 4, 8, 2, 9, 5, 3, 5, 9, 5]],\n",
       "\n",
       "       [[7, 2, 3, 2, 5, 5, 5, 4, 5, 7],\n",
       "        [9, 9, 6, 5, 3, 8, 9, 9, 8, 5],\n",
       "        [9, 9, 4, 7, 6, 5, 4, 5, 4, 7],\n",
       "        [3, 9, 4, 6, 9, 9, 9, 3, 7, 5],\n",
       "        [3, 4, 6, 2, 4, 2, 6, 3, 9, 2],\n",
       "        [7, 6, 9, 7, 6, 6, 2, 9, 5, 4],\n",
       "        [7, 6, 4, 6, 4, 3, 7, 4, 6, 9],\n",
       "        [2, 2, 8, 3, 6, 5, 4, 5, 6, 8],\n",
       "        [5, 9, 7, 6, 9, 5, 9, 6, 2, 3],\n",
       "        [3, 4, 5, 5, 3, 5, 3, 2, 6, 5]],\n",
       "\n",
       "       [[4, 7, 9, 2, 4, 4, 9, 7, 3, 2],\n",
       "        [2, 4, 6, 9, 2, 9, 6, 7, 6, 9],\n",
       "        [4, 2, 8, 9, 3, 3, 9, 8, 4, 5],\n",
       "        [6, 2, 2, 8, 4, 5, 5, 8, 7, 2],\n",
       "        [2, 2, 6, 9, 3, 6, 3, 3, 8, 3],\n",
       "        [6, 3, 2, 7, 2, 6, 3, 6, 6, 8],\n",
       "        [9, 5, 8, 2, 7, 9, 2, 9, 4, 7],\n",
       "        [4, 2, 9, 2, 9, 8, 2, 6, 8, 5],\n",
       "        [3, 7, 6, 5, 7, 4, 5, 2, 9, 3],\n",
       "        [2, 5, 8, 2, 9, 5, 9, 6, 9, 5]],\n",
       "\n",
       "       [[9, 6, 2, 6, 9, 7, 3, 5, 8, 4],\n",
       "        [9, 7, 9, 6, 5, 9, 9, 9, 2, 6],\n",
       "        [9, 5, 2, 4, 5, 2, 3, 4, 6, 6],\n",
       "        [7, 5, 4, 9, 6, 8, 2, 5, 8, 4],\n",
       "        [2, 3, 7, 5, 7, 7, 9, 9, 8, 7],\n",
       "        [7, 5, 3, 6, 2, 3, 5, 8, 2, 5],\n",
       "        [5, 4, 2, 2, 6, 7, 2, 4, 7, 6],\n",
       "        [5, 4, 9, 6, 9, 6, 2, 7, 2, 5],\n",
       "        [7, 2, 8, 7, 8, 8, 5, 6, 3, 2],\n",
       "        [7, 2, 6, 3, 8, 5, 5, 3, 7, 8]],\n",
       "\n",
       "       [[2, 3, 5, 4, 3, 3, 5, 7, 3, 2],\n",
       "        [5, 7, 7, 3, 6, 2, 2, 6, 5, 9],\n",
       "        [7, 3, 8, 2, 7, 2, 5, 2, 7, 3],\n",
       "        [5, 6, 2, 9, 9, 6, 4, 4, 7, 2],\n",
       "        [3, 5, 4, 8, 2, 7, 5, 9, 7, 9],\n",
       "        [4, 5, 2, 4, 9, 6, 3, 3, 6, 6],\n",
       "        [7, 4, 7, 6, 8, 5, 2, 2, 3, 8],\n",
       "        [6, 4, 7, 8, 3, 5, 3, 9, 6, 3],\n",
       "        [6, 3, 3, 8, 5, 2, 4, 4, 3, 4],\n",
       "        [3, 2, 5, 5, 2, 9, 7, 4, 6, 9]]])"
      ]
     },
     "execution_count": 130,
     "metadata": {},
     "output_type": "execute_result"
    }
   ],
   "source": [
    "a = np.random.randint(2,10, size=(10,10,10))\n",
    "a"
   ]
  },
  {
   "cell_type": "code",
   "execution_count": 131,
   "metadata": {},
   "outputs": [
    {
     "data": {
      "text/plain": [
       "array([5, 8, 6, 2, 4, 9, 8, 7, 4, 4, 4, 4, 8, 5, 2, 4, 8, 7, 3, 5, 6, 5,\n",
       "       7, 6, 5, 6, 2, 5, 9, 4, 2, 3, 2, 6, 8, 5, 4, 5, 7, 4, 9, 3, 2, 2,\n",
       "       7, 2, 4, 4, 4, 9, 3, 2, 4, 6, 6, 6, 6, 4, 5, 7, 9, 2, 2, 7, 8, 2,\n",
       "       5, 9, 5, 9, 5, 6, 5, 3, 9, 9, 4, 4, 4, 3, 9, 9, 8, 9, 3, 8, 4, 7,\n",
       "       3, 6, 3, 4, 7, 7, 5, 4, 7, 9, 9, 7, 7, 6, 9, 6, 5, 7, 4, 2, 2, 8,\n",
       "       4, 9, 3, 2, 5, 5, 5, 8, 5, 9, 9, 3, 3, 5, 3, 3, 7, 4, 8, 5, 7, 5,\n",
       "       5, 8, 8, 5, 9, 2, 4, 4, 9, 7, 5, 4, 4, 4, 9, 9, 6, 6, 9, 5, 9, 9,\n",
       "       6, 3, 6, 3, 5, 9, 5, 9, 5, 7, 3, 5, 2, 7, 3, 4, 5, 9, 9, 7, 3, 4,\n",
       "       7, 2, 5, 6, 9, 8, 2, 4, 7, 3, 8, 3, 2, 9, 5, 4, 3, 9, 9, 8, 8, 2,\n",
       "       9, 2, 3, 9, 8, 3, 2, 7, 9, 3, 5, 9, 4, 2, 2, 7, 8, 2, 5, 2, 9, 5,\n",
       "       6, 4, 2, 9, 3, 5, 8, 2, 9, 9, 6, 7, 8, 7, 3, 2, 9, 2, 2, 5, 9, 2,\n",
       "       4, 6, 5, 2, 3, 4, 7, 5, 4, 5, 9, 6, 8, 8, 9, 2, 4, 2, 3, 6, 9, 3,\n",
       "       2, 8, 2, 3, 6, 8, 5, 3, 9, 6, 2, 6, 2, 3, 3, 7, 4, 7, 4, 4, 6, 8,\n",
       "       9, 3, 9, 7, 3, 8, 2, 7, 3, 2, 7, 8, 6, 7, 6, 9, 2, 3, 6, 7, 3, 2,\n",
       "       5, 8, 7, 5, 4, 9, 6, 7, 9, 4, 2, 2, 2, 6, 3, 9, 6, 6, 4, 6, 8, 4,\n",
       "       2, 3, 4, 2, 7, 3, 3, 7, 2, 7, 9, 8, 8, 3, 4, 4, 9, 3, 8, 4, 3, 8,\n",
       "       5, 2, 8, 5, 9, 7, 6, 7, 2, 9, 2, 5, 5, 5, 8, 2, 5, 3, 3, 5, 4, 5,\n",
       "       6, 2, 5, 5, 2, 7, 9, 9, 2, 5, 9, 6, 8, 9, 7, 6, 3, 6, 6, 3, 7, 8,\n",
       "       5, 7, 4, 5, 6, 5, 9, 3, 5, 7, 2, 8, 2, 2, 8, 5, 4, 6, 3, 6, 5, 7,\n",
       "       5, 9, 2, 3, 4, 5, 5, 7, 9, 4, 5, 4, 8, 4, 9, 6, 9, 5, 2, 6, 6, 4,\n",
       "       9, 2, 2, 3, 4, 8, 2, 2, 6, 3, 5, 9, 4, 8, 5, 2, 9, 4, 8, 3, 4, 2,\n",
       "       8, 3, 7, 2, 8, 8, 5, 2, 5, 6, 3, 7, 9, 7, 9, 7, 6, 8, 9, 3, 7, 4,\n",
       "       5, 4, 8, 4, 4, 9, 3, 5, 2, 6, 3, 4, 9, 6, 6, 7, 3, 3, 7, 9, 7, 7,\n",
       "       4, 4, 5, 2, 7, 3, 2, 8, 8, 2, 5, 4, 6, 4, 5, 4, 6, 6, 7, 2, 3, 5,\n",
       "       4, 4, 8, 7, 3, 3, 7, 2, 2, 8, 8, 6, 6, 6, 7, 3, 6, 5, 7, 7, 7, 8,\n",
       "       7, 5, 8, 2, 6, 6, 5, 5, 9, 7, 8, 8, 8, 8, 6, 5, 9, 4, 5, 8, 4, 2,\n",
       "       3, 8, 9, 6, 3, 5, 2, 3, 6, 7, 5, 7, 7, 9, 6, 2, 9, 6, 7, 4, 8, 2,\n",
       "       9, 5, 3, 5, 9, 5, 7, 2, 3, 2, 5, 5, 5, 4, 5, 7, 9, 9, 6, 5, 3, 8,\n",
       "       9, 9, 8, 5, 9, 9, 4, 7, 6, 5, 4, 5, 4, 7, 3, 9, 4, 6, 9, 9, 9, 3,\n",
       "       7, 5, 3, 4, 6, 2, 4, 2, 6, 3, 9, 2, 7, 6, 9, 7, 6, 6, 2, 9, 5, 4,\n",
       "       7, 6, 4, 6, 4, 3, 7, 4, 6, 9, 2, 2, 8, 3, 6, 5, 4, 5, 6, 8, 5, 9,\n",
       "       7, 6, 9, 5, 9, 6, 2, 3, 3, 4, 5, 5, 3, 5, 3, 2, 6, 5, 4, 7, 9, 2,\n",
       "       4, 4, 9, 7, 3, 2, 2, 4, 6, 9, 2, 9, 6, 7, 6, 9, 4, 2, 8, 9, 3, 3,\n",
       "       9, 8, 4, 5, 6, 2, 2, 8, 4, 5, 5, 8, 7, 2, 2, 2, 6, 9, 3, 6, 3, 3,\n",
       "       8, 3, 6, 3, 2, 7, 2, 6, 3, 6, 6, 8, 9, 5, 8, 2, 7, 9, 2, 9, 4, 7,\n",
       "       4, 2, 9, 2, 9, 8, 2, 6, 8, 5, 3, 7, 6, 5, 7, 4, 5, 2, 9, 3, 2, 5,\n",
       "       8, 2, 9, 5, 9, 6, 9, 5, 9, 6, 2, 6, 9, 7, 3, 5, 8, 4, 9, 7, 9, 6,\n",
       "       5, 9, 9, 9, 2, 6, 9, 5, 2, 4, 5, 2, 3, 4, 6, 6, 7, 5, 4, 9, 6, 8,\n",
       "       2, 5, 8, 4, 2, 3, 7, 5, 7, 7, 9, 9, 8, 7, 7, 5, 3, 6, 2, 3, 5, 8,\n",
       "       2, 5, 5, 4, 2, 2, 6, 7, 2, 4, 7, 6, 5, 4, 9, 6, 9, 6, 2, 7, 2, 5,\n",
       "       7, 2, 8, 7, 8, 8, 5, 6, 3, 2, 7, 2, 6, 3, 8, 5, 5, 3, 7, 8, 2, 3,\n",
       "       5, 4, 3, 3, 5, 7, 3, 2, 5, 7, 7, 3, 6, 2, 2, 6, 5, 9, 7, 3, 8, 2,\n",
       "       7, 2, 5, 2, 7, 3, 5, 6, 2, 9, 9, 6, 4, 4, 7, 2, 3, 5, 4, 8, 2, 7,\n",
       "       5, 9, 7, 9, 4, 5, 2, 4, 9, 6, 3, 3, 6, 6, 7, 4, 7, 6, 8, 5, 2, 2,\n",
       "       3, 8, 6, 4, 7, 8, 3, 5, 3, 9, 6, 3, 6, 3, 3, 8, 5, 2, 4, 4, 3, 4,\n",
       "       3, 2, 5, 5, 2, 9, 7, 4, 6, 9])"
      ]
     },
     "execution_count": 131,
     "metadata": {},
     "output_type": "execute_result"
    }
   ],
   "source": [
    "a.flatten()"
   ]
  },
  {
   "cell_type": "code",
   "execution_count": 132,
   "metadata": {},
   "outputs": [
    {
     "data": {
      "text/plain": [
       "array([5, 8, 6, 2, 4, 9, 8, 7, 4, 4, 4, 4, 8, 5, 2, 4, 8, 7, 3, 5, 6, 5,\n",
       "       7, 6, 5, 6, 2, 5, 9, 4, 2, 3, 2, 6, 8, 5, 4, 5, 7, 4, 9, 3, 2, 2,\n",
       "       7, 2, 4, 4, 4, 9, 3, 2, 4, 6, 6, 6, 6, 4, 5, 7, 9, 2, 2, 7, 8, 2,\n",
       "       5, 9, 5, 9, 5, 6, 5, 3, 9, 9, 4, 4, 4, 3, 9, 9, 8, 9, 3, 8, 4, 7,\n",
       "       3, 6, 3, 4, 7, 7, 5, 4, 7, 9, 9, 7, 7, 6, 9, 6, 5, 7, 4, 2, 2, 8,\n",
       "       4, 9, 3, 2, 5, 5, 5, 8, 5, 9, 9, 3, 3, 5, 3, 3, 7, 4, 8, 5, 7, 5,\n",
       "       5, 8, 8, 5, 9, 2, 4, 4, 9, 7, 5, 4, 4, 4, 9, 9, 6, 6, 9, 5, 9, 9,\n",
       "       6, 3, 6, 3, 5, 9, 5, 9, 5, 7, 3, 5, 2, 7, 3, 4, 5, 9, 9, 7, 3, 4,\n",
       "       7, 2, 5, 6, 9, 8, 2, 4, 7, 3, 8, 3, 2, 9, 5, 4, 3, 9, 9, 8, 8, 2,\n",
       "       9, 2, 3, 9, 8, 3, 2, 7, 9, 3, 5, 9, 4, 2, 2, 7, 8, 2, 5, 2, 9, 5,\n",
       "       6, 4, 2, 9, 3, 5, 8, 2, 9, 9, 6, 7, 8, 7, 3, 2, 9, 2, 2, 5, 9, 2,\n",
       "       4, 6, 5, 2, 3, 4, 7, 5, 4, 5, 9, 6, 8, 8, 9, 2, 4, 2, 3, 6, 9, 3,\n",
       "       2, 8, 2, 3, 6, 8, 5, 3, 9, 6, 2, 6, 2, 3, 3, 7, 4, 7, 4, 4, 6, 8,\n",
       "       9, 3, 9, 7, 3, 8, 2, 7, 3, 2, 7, 8, 6, 7, 6, 9, 2, 3, 6, 7, 3, 2,\n",
       "       5, 8, 7, 5, 4, 9, 6, 7, 9, 4, 2, 2, 2, 6, 3, 9, 6, 6, 4, 6, 8, 4,\n",
       "       2, 3, 4, 2, 7, 3, 3, 7, 2, 7, 9, 8, 8, 3, 4, 4, 9, 3, 8, 4, 3, 8,\n",
       "       5, 2, 8, 5, 9, 7, 6, 7, 2, 9, 2, 5, 5, 5, 8, 2, 5, 3, 3, 5, 4, 5,\n",
       "       6, 2, 5, 5, 2, 7, 9, 9, 2, 5, 9, 6, 8, 9, 7, 6, 3, 6, 6, 3, 7, 8,\n",
       "       5, 7, 4, 5, 6, 5, 9, 3, 5, 7, 2, 8, 2, 2, 8, 5, 4, 6, 3, 6, 5, 7,\n",
       "       5, 9, 2, 3, 4, 5, 5, 7, 9, 4, 5, 4, 8, 4, 9, 6, 9, 5, 2, 6, 6, 4,\n",
       "       9, 2, 2, 3, 4, 8, 2, 2, 6, 3, 5, 9, 4, 8, 5, 2, 9, 4, 8, 3, 4, 2,\n",
       "       8, 3, 7, 2, 8, 8, 5, 2, 5, 6, 3, 7, 9, 7, 9, 7, 6, 8, 9, 3, 7, 4,\n",
       "       5, 4, 8, 4, 4, 9, 3, 5, 2, 6, 3, 4, 9, 6, 6, 7, 3, 3, 7, 9, 7, 7,\n",
       "       4, 4, 5, 2, 7, 3, 2, 8, 8, 2, 5, 4, 6, 4, 5, 4, 6, 6, 7, 2, 3, 5,\n",
       "       4, 4, 8, 7, 3, 3, 7, 2, 2, 8, 8, 6, 6, 6, 7, 3, 6, 5, 7, 7, 7, 8,\n",
       "       7, 5, 8, 2, 6, 6, 5, 5, 9, 7, 8, 8, 8, 8, 6, 5, 9, 4, 5, 8, 4, 2,\n",
       "       3, 8, 9, 6, 3, 5, 2, 3, 6, 7, 5, 7, 7, 9, 6, 2, 9, 6, 7, 4, 8, 2,\n",
       "       9, 5, 3, 5, 9, 5, 7, 2, 3, 2, 5, 5, 5, 4, 5, 7, 9, 9, 6, 5, 3, 8,\n",
       "       9, 9, 8, 5, 9, 9, 4, 7, 6, 5, 4, 5, 4, 7, 3, 9, 4, 6, 9, 9, 9, 3,\n",
       "       7, 5, 3, 4, 6, 2, 4, 2, 6, 3, 9, 2, 7, 6, 9, 7, 6, 6, 2, 9, 5, 4,\n",
       "       7, 6, 4, 6, 4, 3, 7, 4, 6, 9, 2, 2, 8, 3, 6, 5, 4, 5, 6, 8, 5, 9,\n",
       "       7, 6, 9, 5, 9, 6, 2, 3, 3, 4, 5, 5, 3, 5, 3, 2, 6, 5, 4, 7, 9, 2,\n",
       "       4, 4, 9, 7, 3, 2, 2, 4, 6, 9, 2, 9, 6, 7, 6, 9, 4, 2, 8, 9, 3, 3,\n",
       "       9, 8, 4, 5, 6, 2, 2, 8, 4, 5, 5, 8, 7, 2, 2, 2, 6, 9, 3, 6, 3, 3,\n",
       "       8, 3, 6, 3, 2, 7, 2, 6, 3, 6, 6, 8, 9, 5, 8, 2, 7, 9, 2, 9, 4, 7,\n",
       "       4, 2, 9, 2, 9, 8, 2, 6, 8, 5, 3, 7, 6, 5, 7, 4, 5, 2, 9, 3, 2, 5,\n",
       "       8, 2, 9, 5, 9, 6, 9, 5, 9, 6, 2, 6, 9, 7, 3, 5, 8, 4, 9, 7, 9, 6,\n",
       "       5, 9, 9, 9, 2, 6, 9, 5, 2, 4, 5, 2, 3, 4, 6, 6, 7, 5, 4, 9, 6, 8,\n",
       "       2, 5, 8, 4, 2, 3, 7, 5, 7, 7, 9, 9, 8, 7, 7, 5, 3, 6, 2, 3, 5, 8,\n",
       "       2, 5, 5, 4, 2, 2, 6, 7, 2, 4, 7, 6, 5, 4, 9, 6, 9, 6, 2, 7, 2, 5,\n",
       "       7, 2, 8, 7, 8, 8, 5, 6, 3, 2, 7, 2, 6, 3, 8, 5, 5, 3, 7, 8, 2, 3,\n",
       "       5, 4, 3, 3, 5, 7, 3, 2, 5, 7, 7, 3, 6, 2, 2, 6, 5, 9, 7, 3, 8, 2,\n",
       "       7, 2, 5, 2, 7, 3, 5, 6, 2, 9, 9, 6, 4, 4, 7, 2, 3, 5, 4, 8, 2, 7,\n",
       "       5, 9, 7, 9, 4, 5, 2, 4, 9, 6, 3, 3, 6, 6, 7, 4, 7, 6, 8, 5, 2, 2,\n",
       "       3, 8, 6, 4, 7, 8, 3, 5, 3, 9, 6, 3, 6, 3, 3, 8, 5, 2, 4, 4, 3, 4,\n",
       "       3, 2, 5, 5, 2, 9, 7, 4, 6, 9])"
      ]
     },
     "execution_count": 132,
     "metadata": {},
     "output_type": "execute_result"
    }
   ],
   "source": [
    "a.ravel()"
   ]
  },
  {
   "cell_type": "code",
   "execution_count": null,
   "metadata": {},
   "outputs": [],
   "source": []
  }
 ],
 "metadata": {
  "kernelspec": {
   "display_name": "base",
   "language": "python",
   "name": "python3"
  },
  "language_info": {
   "codemirror_mode": {
    "name": "ipython",
    "version": 3
   },
   "file_extension": ".py",
   "mimetype": "text/x-python",
   "name": "python",
   "nbconvert_exporter": "python",
   "pygments_lexer": "ipython3",
   "version": "3.9.13"
  },
  "orig_nbformat": 4
 },
 "nbformat": 4,
 "nbformat_minor": 2
}
